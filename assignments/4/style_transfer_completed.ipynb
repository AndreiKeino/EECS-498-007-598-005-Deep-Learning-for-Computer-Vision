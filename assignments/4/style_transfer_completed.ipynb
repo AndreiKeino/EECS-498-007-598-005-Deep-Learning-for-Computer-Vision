{
  "nbformat": 4,
  "nbformat_minor": 0,
  "metadata": {
    "accelerator": "GPU",
    "colab": {
      "name": "style_transfer_completed.ipynb",
      "provenance": [],
      "collapsed_sections": []
    },
    "kernelspec": {
      "display_name": "Python 3",
      "name": "python3"
    },
    "language_info": {
      "codemirror_mode": {
        "name": "ipython",
        "version": 3
      },
      "file_extension": ".py",
      "mimetype": "text/x-python",
      "name": "python",
      "nbconvert_exporter": "python",
      "pygments_lexer": "ipython3",
      "version": "3.7.3"
    },
    "widgets": {
      "application/vnd.jupyter.widget-state+json": {
        "d5087509d41743e9bffd144fe69d12c4": {
          "model_module": "@jupyter-widgets/controls",
          "model_name": "HBoxModel",
          "state": {
            "_view_name": "HBoxView",
            "_dom_classes": [],
            "_model_name": "HBoxModel",
            "_view_module": "@jupyter-widgets/controls",
            "_model_module_version": "1.5.0",
            "_view_count": null,
            "_view_module_version": "1.5.0",
            "box_style": "",
            "layout": "IPY_MODEL_206b49fbb9344729a7db19daf9d8d865",
            "_model_module": "@jupyter-widgets/controls",
            "children": [
              "IPY_MODEL_e3510da5f4924cb6a4a9eac52e9da293",
              "IPY_MODEL_19141d0520da4375a82329d28fe7f8f2"
            ]
          }
        },
        "206b49fbb9344729a7db19daf9d8d865": {
          "model_module": "@jupyter-widgets/base",
          "model_name": "LayoutModel",
          "state": {
            "_view_name": "LayoutView",
            "grid_template_rows": null,
            "right": null,
            "justify_content": null,
            "_view_module": "@jupyter-widgets/base",
            "overflow": null,
            "_model_module_version": "1.2.0",
            "_view_count": null,
            "flex_flow": null,
            "width": null,
            "min_width": null,
            "border": null,
            "align_items": null,
            "bottom": null,
            "_model_module": "@jupyter-widgets/base",
            "top": null,
            "grid_column": null,
            "overflow_y": null,
            "overflow_x": null,
            "grid_auto_flow": null,
            "grid_area": null,
            "grid_template_columns": null,
            "flex": null,
            "_model_name": "LayoutModel",
            "justify_items": null,
            "grid_row": null,
            "max_height": null,
            "align_content": null,
            "visibility": null,
            "align_self": null,
            "height": null,
            "min_height": null,
            "padding": null,
            "grid_auto_rows": null,
            "grid_gap": null,
            "max_width": null,
            "order": null,
            "_view_module_version": "1.2.0",
            "grid_template_areas": null,
            "object_position": null,
            "object_fit": null,
            "grid_auto_columns": null,
            "margin": null,
            "display": null,
            "left": null
          }
        },
        "e3510da5f4924cb6a4a9eac52e9da293": {
          "model_module": "@jupyter-widgets/controls",
          "model_name": "IntProgressModel",
          "state": {
            "_view_name": "ProgressView",
            "style": "IPY_MODEL_cdb7f87b0d79411faecafad002b487be",
            "_dom_classes": [],
            "description": "",
            "_model_name": "IntProgressModel",
            "bar_style": "success",
            "max": 4966400,
            "_view_module": "@jupyter-widgets/controls",
            "_model_module_version": "1.5.0",
            "value": 4966400,
            "_view_count": null,
            "_view_module_version": "1.5.0",
            "orientation": "horizontal",
            "min": 0,
            "description_tooltip": null,
            "_model_module": "@jupyter-widgets/controls",
            "layout": "IPY_MODEL_fb5b1d7753f249a89fc4c8398a77ce58"
          }
        },
        "19141d0520da4375a82329d28fe7f8f2": {
          "model_module": "@jupyter-widgets/controls",
          "model_name": "HTMLModel",
          "state": {
            "_view_name": "HTMLView",
            "style": "IPY_MODEL_470a27f6282843cfbafda086d1230fc0",
            "_dom_classes": [],
            "description": "",
            "_model_name": "HTMLModel",
            "placeholder": "​",
            "_view_module": "@jupyter-widgets/controls",
            "_model_module_version": "1.5.0",
            "value": "100% 4.74M/4.74M [00:00&lt;00:00, 44.6MB/s]",
            "_view_count": null,
            "_view_module_version": "1.5.0",
            "description_tooltip": null,
            "_model_module": "@jupyter-widgets/controls",
            "layout": "IPY_MODEL_e7d0a090648444b48bf5b3681728733d"
          }
        },
        "cdb7f87b0d79411faecafad002b487be": {
          "model_module": "@jupyter-widgets/controls",
          "model_name": "ProgressStyleModel",
          "state": {
            "_view_name": "StyleView",
            "_model_name": "ProgressStyleModel",
            "description_width": "",
            "_view_module": "@jupyter-widgets/base",
            "_model_module_version": "1.5.0",
            "_view_count": null,
            "_view_module_version": "1.2.0",
            "bar_color": null,
            "_model_module": "@jupyter-widgets/controls"
          }
        },
        "fb5b1d7753f249a89fc4c8398a77ce58": {
          "model_module": "@jupyter-widgets/base",
          "model_name": "LayoutModel",
          "state": {
            "_view_name": "LayoutView",
            "grid_template_rows": null,
            "right": null,
            "justify_content": null,
            "_view_module": "@jupyter-widgets/base",
            "overflow": null,
            "_model_module_version": "1.2.0",
            "_view_count": null,
            "flex_flow": null,
            "width": null,
            "min_width": null,
            "border": null,
            "align_items": null,
            "bottom": null,
            "_model_module": "@jupyter-widgets/base",
            "top": null,
            "grid_column": null,
            "overflow_y": null,
            "overflow_x": null,
            "grid_auto_flow": null,
            "grid_area": null,
            "grid_template_columns": null,
            "flex": null,
            "_model_name": "LayoutModel",
            "justify_items": null,
            "grid_row": null,
            "max_height": null,
            "align_content": null,
            "visibility": null,
            "align_self": null,
            "height": null,
            "min_height": null,
            "padding": null,
            "grid_auto_rows": null,
            "grid_gap": null,
            "max_width": null,
            "order": null,
            "_view_module_version": "1.2.0",
            "grid_template_areas": null,
            "object_position": null,
            "object_fit": null,
            "grid_auto_columns": null,
            "margin": null,
            "display": null,
            "left": null
          }
        },
        "470a27f6282843cfbafda086d1230fc0": {
          "model_module": "@jupyter-widgets/controls",
          "model_name": "DescriptionStyleModel",
          "state": {
            "_view_name": "StyleView",
            "_model_name": "DescriptionStyleModel",
            "description_width": "",
            "_view_module": "@jupyter-widgets/base",
            "_model_module_version": "1.5.0",
            "_view_count": null,
            "_view_module_version": "1.2.0",
            "_model_module": "@jupyter-widgets/controls"
          }
        },
        "e7d0a090648444b48bf5b3681728733d": {
          "model_module": "@jupyter-widgets/base",
          "model_name": "LayoutModel",
          "state": {
            "_view_name": "LayoutView",
            "grid_template_rows": null,
            "right": null,
            "justify_content": null,
            "_view_module": "@jupyter-widgets/base",
            "overflow": null,
            "_model_module_version": "1.2.0",
            "_view_count": null,
            "flex_flow": null,
            "width": null,
            "min_width": null,
            "border": null,
            "align_items": null,
            "bottom": null,
            "_model_module": "@jupyter-widgets/base",
            "top": null,
            "grid_column": null,
            "overflow_y": null,
            "overflow_x": null,
            "grid_auto_flow": null,
            "grid_area": null,
            "grid_template_columns": null,
            "flex": null,
            "_model_name": "LayoutModel",
            "justify_items": null,
            "grid_row": null,
            "max_height": null,
            "align_content": null,
            "visibility": null,
            "align_self": null,
            "height": null,
            "min_height": null,
            "padding": null,
            "grid_auto_rows": null,
            "grid_gap": null,
            "max_width": null,
            "order": null,
            "_view_module_version": "1.2.0",
            "grid_template_areas": null,
            "object_position": null,
            "object_fit": null,
            "grid_auto_columns": null,
            "margin": null,
            "display": null,
            "left": null
          }
        }
      }
    }
  },
  "cells": [
    {
      "cell_type": "markdown",
      "metadata": {
        "colab_type": "text",
        "id": "DDJwQPZcupab"
      },
      "source": [
        "# EECS 498-007/598-005 Assignment 4-4: Style Transfer\n",
        "\n",
        "Before we start, please put your name and UMID in following format\n",
        "\n",
        ": Firstname LASTNAME, #00000000   //   e.g.) Justin JOHNSON, #12345678"
      ]
    },
    {
      "cell_type": "markdown",
      "metadata": {
        "colab_type": "text",
        "id": "2KMxqLt1h2kx"
      },
      "source": [
        "**Your Answer:**   \n",
        "Andrei Keino, #XXXXXXXX"
      ]
    },
    {
      "cell_type": "markdown",
      "metadata": {
        "colab_type": "text",
        "id": "Ttiie3K-fC6A",
        "tags": [
          "pdf-title"
        ]
      },
      "source": [
        "# Style Transfer\n",
        "In this notebook we will implement the style transfer technique from [\"Image Style Transfer Using Convolutional Neural Networks\" (Gatys et al., CVPR 2015)](http://www.cv-foundation.org/openaccess/content_cvpr_2016/papers/Gatys_Image_Style_Transfer_CVPR_2016_paper.pdf).\n",
        "\n",
        "The general idea is to take two images, and produce a new image that reflects the content of one but the artistic \"style\" of the other. We will do this by first formulating a loss function that matches the content and style of each respective image in the feature space of a deep network, and then performing gradient descent on the pixels of the image itself.\n",
        "\n",
        "The deep network we use as a feature extractor is [SqueezeNet](https://arxiv.org/abs/1602.07360), a small model that has been trained on ImageNet. You could use any network, but we chose SqueezeNet here for its small size and efficiency.\n",
        "\n",
        "Here's an example of the images you'll be able to produce by the end of this notebook:\n",
        "\n",
        "![caption](http://web.eecs.umich.edu/~justincj/teaching/eecs498/example_styletransfer.png)\n"
      ]
    },
    {
      "cell_type": "markdown",
      "metadata": {
        "colab_type": "text",
        "id": "ubB_0e-UAOVK"
      },
      "source": [
        "## Install starter code\n",
        "We will continue using the utility functions that we've used for previous assignments: [`coutils` package](https://github.com/deepvision-class/starter-code). Run this cell to download and install it.\n"
      ]
    },
    {
      "cell_type": "code",
      "metadata": {
        "colab_type": "code",
        "id": "ASkY27ZtA7Is",
        "colab": {
          "base_uri": "https://localhost:8080/",
          "height": 474
        },
        "outputId": "10280dd1-d639-4c29-c005-db5427a73e39"
      },
      "source": [
        "!pip install git+https://github.com/deepvision-class/starter-code"
      ],
      "execution_count": 1,
      "outputs": [
        {
          "output_type": "stream",
          "text": [
            "Collecting git+https://github.com/deepvision-class/starter-code\n",
            "  Cloning https://github.com/deepvision-class/starter-code to /tmp/pip-req-build-i6uz9dtq\n",
            "  Running command git clone -q https://github.com/deepvision-class/starter-code /tmp/pip-req-build-i6uz9dtq\n",
            "Requirement already satisfied: pydrive in /usr/local/lib/python3.6/dist-packages (from Colab-Utils==0.1.dev0) (1.3.1)\n",
            "Requirement already satisfied: google-api-python-client>=1.2 in /usr/local/lib/python3.6/dist-packages (from pydrive->Colab-Utils==0.1.dev0) (1.7.11)\n",
            "Requirement already satisfied: oauth2client>=4.0.0 in /usr/local/lib/python3.6/dist-packages (from pydrive->Colab-Utils==0.1.dev0) (4.1.3)\n",
            "Requirement already satisfied: PyYAML>=3.0 in /usr/local/lib/python3.6/dist-packages (from pydrive->Colab-Utils==0.1.dev0) (3.13)\n",
            "Requirement already satisfied: six<2dev,>=1.6.1 in /usr/local/lib/python3.6/dist-packages (from google-api-python-client>=1.2->pydrive->Colab-Utils==0.1.dev0) (1.12.0)\n",
            "Requirement already satisfied: uritemplate<4dev,>=3.0.0 in /usr/local/lib/python3.6/dist-packages (from google-api-python-client>=1.2->pydrive->Colab-Utils==0.1.dev0) (3.0.1)\n",
            "Requirement already satisfied: google-auth-httplib2>=0.0.3 in /usr/local/lib/python3.6/dist-packages (from google-api-python-client>=1.2->pydrive->Colab-Utils==0.1.dev0) (0.0.3)\n",
            "Requirement already satisfied: httplib2<1dev,>=0.9.2 in /usr/local/lib/python3.6/dist-packages (from google-api-python-client>=1.2->pydrive->Colab-Utils==0.1.dev0) (0.11.3)\n",
            "Requirement already satisfied: google-auth>=1.4.1 in /usr/local/lib/python3.6/dist-packages (from google-api-python-client>=1.2->pydrive->Colab-Utils==0.1.dev0) (1.7.2)\n",
            "Requirement already satisfied: pyasn1>=0.1.7 in /usr/local/lib/python3.6/dist-packages (from oauth2client>=4.0.0->pydrive->Colab-Utils==0.1.dev0) (0.4.8)\n",
            "Requirement already satisfied: rsa>=3.1.4 in /usr/local/lib/python3.6/dist-packages (from oauth2client>=4.0.0->pydrive->Colab-Utils==0.1.dev0) (4.0)\n",
            "Requirement already satisfied: pyasn1-modules>=0.0.5 in /usr/local/lib/python3.6/dist-packages (from oauth2client>=4.0.0->pydrive->Colab-Utils==0.1.dev0) (0.2.8)\n",
            "Requirement already satisfied: cachetools<3.2,>=2.0.0 in /usr/local/lib/python3.6/dist-packages (from google-auth>=1.4.1->google-api-python-client>=1.2->pydrive->Colab-Utils==0.1.dev0) (3.1.1)\n",
            "Requirement already satisfied: setuptools>=40.3.0 in /usr/local/lib/python3.6/dist-packages (from google-auth>=1.4.1->google-api-python-client>=1.2->pydrive->Colab-Utils==0.1.dev0) (45.2.0)\n",
            "Building wheels for collected packages: Colab-Utils\n",
            "  Building wheel for Colab-Utils (setup.py) ... \u001b[?25l\u001b[?25hdone\n",
            "  Created wheel for Colab-Utils: filename=Colab_Utils-0.1.dev0-cp36-none-any.whl size=10323 sha256=8d251d076319c6225b216753cf1f292b5388748f053ba8685563d672402cade8\n",
            "  Stored in directory: /tmp/pip-ephem-wheel-cache-w765wt5o/wheels/63/d1/27/a208931527abb98d326d00209f46c80c9d745851d6a1defd10\n",
            "Successfully built Colab-Utils\n",
            "Installing collected packages: Colab-Utils\n",
            "Successfully installed Colab-Utils-0.1.dev0\n"
          ],
          "name": "stdout"
        }
      ]
    },
    {
      "cell_type": "markdown",
      "metadata": {
        "colab_type": "text",
        "id": "MzqbYcKdz6ew"
      },
      "source": [
        "## Setup code\n",
        "Run some setup code for this notebook: Import some useful packages and increase the default figure size."
      ]
    },
    {
      "cell_type": "code",
      "metadata": {
        "colab_type": "code",
        "id": "q53DlMXboP-T",
        "colab": {}
      },
      "source": [
        "import torch\n",
        "import torch.nn as nn\n",
        "import torchvision\n",
        "import torchvision.transforms as T\n",
        "import PIL\n",
        "import numpy as np\n",
        "from coutils import rel_error\n",
        "from collections import namedtuple\n",
        "import matplotlib.pyplot as plt\n",
        "\n",
        "SQUEEZENET_MEAN = torch.tensor([0.485, 0.456, 0.406])\n",
        "SQUEEZENET_STD = torch.tensor([0.229, 0.224, 0.225])\n",
        "\n",
        "%matplotlib inline"
      ],
      "execution_count": 0,
      "outputs": []
    },
    {
      "cell_type": "markdown",
      "metadata": {
        "colab_type": "text",
        "id": "OvUDZWGU3VLV"
      },
      "source": [
        "We will use GPUs to accelerate our computation in this notebook. Run the following to make sure GPUs are enabled:"
      ]
    },
    {
      "cell_type": "code",
      "metadata": {
        "colab_type": "code",
        "id": "RrAX9FOLpr9k",
        "colab": {
          "base_uri": "https://localhost:8080/",
          "height": 35
        },
        "outputId": "ad0b183e-9b66-40e0-e566-53a56f044774"
      },
      "source": [
        "if torch.cuda.is_available:\n",
        "  print('Good to go!')\n",
        "else:\n",
        "  print('Please set GPU via Edit -> Notebook Settings.')\n",
        "dtype = torch.cuda.FloatTensor "
      ],
      "execution_count": 3,
      "outputs": [
        {
          "output_type": "stream",
          "text": [
            "Good to go!\n"
          ],
          "name": "stdout"
        }
      ]
    },
    {
      "cell_type": "markdown",
      "metadata": {
        "colab_type": "text",
        "id": "bqm8POJCfC6B",
        "tags": [
          "pdf-ignore"
        ]
      },
      "source": [
        "Download a few style images and answer checking files."
      ]
    },
    {
      "cell_type": "code",
      "metadata": {
        "colab_type": "code",
        "id": "MJUD1pR-ffdO",
        "colab": {
          "base_uri": "https://localhost:8080/",
          "height": 363
        },
        "outputId": "011be8c8-b8d8-43f5-e481-48ddeebcfd73"
      },
      "source": [
        "!wget http://web.eecs.umich.edu/~justincj/teaching/eecs498/a4_styles.zip\n",
        "!unzip a4_styles.zip && rm a4_styles.zip"
      ],
      "execution_count": 4,
      "outputs": [
        {
          "output_type": "stream",
          "text": [
            "--2020-03-16 09:04:25--  http://web.eecs.umich.edu/~justincj/teaching/eecs498/a4_styles.zip\n",
            "Resolving web.eecs.umich.edu (web.eecs.umich.edu)... 141.212.113.214\n",
            "Connecting to web.eecs.umich.edu (web.eecs.umich.edu)|141.212.113.214|:80... connected.\n",
            "HTTP request sent, awaiting response... 200 OK\n",
            "Length: 2170872 (2.1M) [application/zip]\n",
            "Saving to: ‘a4_styles.zip’\n",
            "\n",
            "\ra4_styles.zip         0%[                    ]       0  --.-KB/s               \ra4_styles.zip         9%[>                   ] 200.27K   979KB/s               \ra4_styles.zip       100%[===================>]   2.07M  5.54MB/s    in 0.4s    \n",
            "\n",
            "2020-03-16 09:04:25 (5.54 MB/s) - ‘a4_styles.zip’ saved [2170872/2170872]\n",
            "\n",
            "Archive:  a4_styles.zip\n",
            "   creating: styles/\n",
            "  inflating: styles/tubingen.jpg     \n",
            "  inflating: styles/the_scream.jpg   \n",
            "  inflating: styles/starry_night.jpg  \n",
            "  inflating: styles/muse.jpg         \n",
            "  inflating: styles/composition_vii.jpg  \n",
            "  inflating: style-transfer-checks.npz  \n"
          ],
          "name": "stdout"
        }
      ]
    },
    {
      "cell_type": "markdown",
      "metadata": {
        "colab_type": "text",
        "id": "PBZ_gcteJy7W",
        "tags": [
          "pdf-ignore"
        ]
      },
      "source": [
        "We provide you with some helper functions to deal with images, since for this part of the assignment we're dealing with real JPEGs, not CIFAR-10 data."
      ]
    },
    {
      "cell_type": "code",
      "metadata": {
        "colab_type": "code",
        "id": "uP5LpEM9fC6H",
        "tags": [
          "pdf-ignore"
        ],
        "colab": {}
      },
      "source": [
        "def preprocess(img, size=512):\n",
        "    transform = T.Compose([\n",
        "        T.Resize(size),\n",
        "        T.ToTensor(),\n",
        "        T.Normalize(mean=SQUEEZENET_MEAN.tolist(),\n",
        "                    std=SQUEEZENET_STD.tolist()),\n",
        "        T.Lambda(lambda x: x[None]),\n",
        "    ])\n",
        "    return transform(img)\n",
        "\n",
        "def deprocess(img):\n",
        "    transform = T.Compose([\n",
        "        T.Lambda(lambda x: x[0]),\n",
        "        T.Normalize(mean=[0, 0, 0], std=[1.0 / s for s in SQUEEZENET_STD.tolist()]),\n",
        "        T.Normalize(mean=[-m for m in SQUEEZENET_MEAN.tolist()], std=[1, 1, 1]),\n",
        "        T.Lambda(rescale),\n",
        "        T.ToPILImage(),\n",
        "    ])\n",
        "    return transform(img)\n",
        "\n",
        "def rescale(x):\n",
        "    low, high = x.min(), x.max()\n",
        "    x_rescaled = (x - low) / (high - low)\n",
        "    return x_rescaled\n",
        "\n",
        "def features_from_img(imgpath, imgsize):\n",
        "    img = preprocess(PIL.Image.open(imgpath), size=imgsize)\n",
        "    img_var = img.type(dtype)\n",
        "    return extract_features(img_var, cnn), img_var\n",
        "\n",
        "# Older versions of scipy.misc.imresize yield different results\n",
        "# from newer versions, so we check to make sure scipy is up to date.\n",
        "def check_scipy():\n",
        "    import scipy\n",
        "    vnum = int(scipy.__version__.split('.')[1])\n",
        "    major_vnum = int(scipy.__version__.split('.')[0])\n",
        "    \n",
        "    assert vnum >= 16 or major_vnum >= 1, \"You must install SciPy >= 0.16.0 to complete this notebook.\"\n",
        "\n",
        "check_scipy()\n",
        "\n",
        "answers = dict(np.load('style-transfer-checks.npz'))\n"
      ],
      "execution_count": 0,
      "outputs": []
    },
    {
      "cell_type": "code",
      "metadata": {
        "colab_type": "code",
        "id": "ybJ18imQfC6N",
        "tags": [
          "pdf-ignore"
        ],
        "colab": {
          "base_uri": "https://localhost:8080/",
          "height": 105,
          "referenced_widgets": [
            "d5087509d41743e9bffd144fe69d12c4",
            "206b49fbb9344729a7db19daf9d8d865",
            "e3510da5f4924cb6a4a9eac52e9da293",
            "19141d0520da4375a82329d28fe7f8f2",
            "cdb7f87b0d79411faecafad002b487be",
            "fb5b1d7753f249a89fc4c8398a77ce58",
            "470a27f6282843cfbafda086d1230fc0",
            "e7d0a090648444b48bf5b3681728733d"
          ]
        },
        "outputId": "509425f4-e95e-4fcb-f872-19ee1074e870"
      },
      "source": [
        "# Load the pre-trained SqueezeNet model.\n",
        "cnn = torchvision.models.squeezenet1_1(pretrained=True).features\n",
        "cnn.type(dtype)\n",
        "\n",
        "# We don't want to train the model any further, so we don't want PyTorch to waste computation \n",
        "# computing gradients on parameters we're never going to update.\n",
        "for param in cnn.parameters():\n",
        "    param.requires_grad = False\n",
        "\n",
        "# We provide this helper code which takes an image, a model (cnn), and returns a list of\n",
        "# feature maps, one per layer.\n",
        "def extract_features(x, cnn):\n",
        "    \"\"\"\n",
        "    Use the CNN to extract features from the input image x.\n",
        "    \n",
        "    Inputs:\n",
        "    - x: A PyTorch Tensor of shape (N, C, H, W) holding a minibatch of images that\n",
        "      will be fed to the CNN.\n",
        "    - cnn: A PyTorch model that we will use to extract features.\n",
        "    \n",
        "    Returns:\n",
        "    - features: A list of feature for the input images x extracted using the cnn model.\n",
        "      features[i] is a PyTorch Tensor of shape (N, C_i, H_i, W_i); recall that features\n",
        "      from different layers of the network may have different numbers of channels (C_i) and\n",
        "      spatial dimensions (H_i, W_i).\n",
        "    \"\"\"\n",
        "    features = []\n",
        "    prev_feat = x\n",
        "    for i, module in enumerate(cnn._modules.values()):\n",
        "        next_feat = module(prev_feat)\n",
        "        features.append(next_feat)\n",
        "        prev_feat = next_feat\n",
        "    return features\n",
        "\n",
        "#please disregard warnings about initialization"
      ],
      "execution_count": 6,
      "outputs": [
        {
          "output_type": "stream",
          "text": [
            "Downloading: \"https://download.pytorch.org/models/squeezenet1_1-f364aa15.pth\" to /root/.cache/torch/checkpoints/squeezenet1_1-f364aa15.pth\n"
          ],
          "name": "stderr"
        },
        {
          "output_type": "display_data",
          "data": {
            "application/vnd.jupyter.widget-view+json": {
              "model_id": "d5087509d41743e9bffd144fe69d12c4",
              "version_minor": 0,
              "version_major": 2
            },
            "text/plain": [
              "HBox(children=(IntProgress(value=0, max=4966400), HTML(value='')))"
            ]
          },
          "metadata": {
            "tags": []
          }
        },
        {
          "output_type": "stream",
          "text": [
            "\n"
          ],
          "name": "stdout"
        }
      ]
    },
    {
      "cell_type": "markdown",
      "metadata": {
        "colab_type": "text",
        "id": "0uIu-Kq2fC6Q"
      },
      "source": [
        "## Computing Loss\n",
        "\n",
        "We're going to compute the three components of our loss function now. The loss function is a weighted sum of three terms: content loss + style loss + total variation loss. You'll fill in the functions that compute these weighted terms below."
      ]
    },
    {
      "cell_type": "markdown",
      "metadata": {
        "colab_type": "text",
        "id": "c6-FM3KnfC6R",
        "tags": [
          "pdf-ignore"
        ]
      },
      "source": [
        "## Content loss\n",
        "We can generate an image that reflects the content of one image and the style of another by incorporating both in our loss function. We want to penalize deviations from the content of the content image and deviations from the style of the style image. We can then use this hybrid loss function to perform gradient descent **not on the parameters** of the model, but instead **on the pixel values** of our original image.\n",
        "\n",
        "Let's first write the content loss function. Content loss measures how much the feature map of the generated image differs from the feature map of the source image. We only care about the content representation of one layer of the network (say, layer $\\ell$), that has feature maps $A^\\ell \\in \\mathbb{R}^{1 \\times C_\\ell \\times H_\\ell \\times W_\\ell}$. $C_\\ell$ is the number of filters/channels in layer $\\ell$, $H_\\ell$ and $W_\\ell$ are the height and width. We will work with reshaped versions of these feature maps that combine all spatial positions into one dimension. Let $F^\\ell \\in \\mathbb{R}^{C_\\ell \\times M_\\ell}$ be the feature map for the current image and $P^\\ell \\in \\mathbb{R}^{C_\\ell \\times M_\\ell}$ be the feature map for the content source image where $M_\\ell=H_\\ell\\times W_\\ell$ is the number of elements in each feature map. Each row of $F^\\ell$ or $P^\\ell$ represents the vectorized activations of a particular filter, convolved over all positions of the image. Finally, let $w_c$ be the weight of the content loss term in the loss function.\n",
        "\n",
        "Then the content loss is given by:\n",
        "\n",
        "$L_c = w_c \\times \\sum_{i,j} (F_{ij}^{\\ell} - P_{ij}^{\\ell})^2$"
      ]
    },
    {
      "cell_type": "code",
      "metadata": {
        "colab_type": "code",
        "id": "I79jXgABfC6R",
        "colab": {}
      },
      "source": [
        "def content_loss(content_weight, content_current, content_original):\n",
        "    \"\"\"\n",
        "    Compute the content loss for style transfer.\n",
        "    \n",
        "    Inputs:\n",
        "    - content_weight: Scalar giving the weighting for the content loss.\n",
        "    - content_current: features of the current image; this is a PyTorch Tensor of shape\n",
        "      (1, C_l, H_l, W_l).\n",
        "    - content_target: features of the content image, Tensor with shape (1, C_l, H_l, W_l).\n",
        "    \n",
        "    Returns:\n",
        "    - scalar content loss\n",
        "    \"\"\"\n",
        "    ##############################################################################\n",
        "    # TODO: Compute the content loss for style transfer.                         #\n",
        "    ##############################################################################\n",
        "    # Replace \"pass\" statement with your code\n",
        "    return content_weight * torch.sum((content_current - content_original) ** 2)\n",
        "    ##############################################################################\n",
        "    #                               END OF YOUR CODE                             #\n",
        "    ##############################################################################"
      ],
      "execution_count": 0,
      "outputs": []
    },
    {
      "cell_type": "markdown",
      "metadata": {
        "colab_type": "text",
        "id": "CCrPP_B5fC6U"
      },
      "source": [
        "Test your content loss. You should see errors less than 0.001."
      ]
    },
    {
      "cell_type": "code",
      "metadata": {
        "colab_type": "code",
        "id": "fBpKLcKMfC6V",
        "colab": {
          "base_uri": "https://localhost:8080/",
          "height": 35
        },
        "outputId": "e77c41ea-d221-47a6-ba9d-5a35863b559b"
      },
      "source": [
        "def content_loss_test(correct):\n",
        "    content_image = 'styles/tubingen.jpg'\n",
        "    image_size =  192\n",
        "    content_layer = 3\n",
        "    content_weight = 6e-2\n",
        "    \n",
        "    c_feats, content_img_var = features_from_img(content_image, image_size)\n",
        "    \n",
        "    bad_img = torch.zeros(*content_img_var.data.size()).type(dtype)\n",
        "    feats = extract_features(bad_img, cnn)\n",
        "    \n",
        "    student_output = content_loss(content_weight, c_feats[content_layer], feats[content_layer])\n",
        "\n",
        "    error = rel_error(correct, student_output)\n",
        "    print('Maximum error is {:.3f}'.format(error))\n",
        "\n",
        "content_loss_test(torch.from_numpy(answers['cl_out']).type(dtype))"
      ],
      "execution_count": 8,
      "outputs": [
        {
          "output_type": "stream",
          "text": [
            "Maximum error is 0.000\n"
          ],
          "name": "stdout"
        }
      ]
    },
    {
      "cell_type": "markdown",
      "metadata": {
        "colab_type": "text",
        "id": "0ld7SAfmfC6Z"
      },
      "source": [
        "## Style loss\n",
        "Now we can tackle the style loss. For a given layer $\\ell$, the style loss is defined as follows:\n",
        "\n",
        "First, compute the Gram matrix G which represents the correlations between the responses of each filter, where F is as above. The Gram matrix is an approximation to the covariance matrix -- we want the activation statistics of our generated image to match the activation statistics of our style image, and matching the (approximate) covariance is one way to do that. There are a variety of ways you could do this, but the Gram matrix is nice because it's easy to compute and in practice shows good results.\n",
        "\n",
        "Given a feature map $F^\\ell$ of shape $(C_\\ell, M_\\ell)$, the Gram matrix has shape $(C_\\ell, C_\\ell)$ and its elements are given by:\n",
        "\n",
        "$$G_{ij}^\\ell  = \\sum_k F^{\\ell}_{ik} F^{\\ell}_{jk}$$\n",
        "\n",
        "Assuming $G^\\ell$ is the Gram matrix from the feature map of the current image, $A^\\ell$ is the Gram Matrix from the feature map of the source style image, and $w_\\ell$ a scalar weight term, then the style loss for the layer $\\ell$ is simply the weighted Euclidean distance between the two Gram matrices:\n",
        "\n",
        "$$L_s^\\ell = w_\\ell \\sum_{i, j} \\left(G^\\ell_{ij} - A^\\ell_{ij}\\right)^2$$\n",
        "\n",
        "In practice we usually compute the style loss at a set of layers $\\mathcal{L}$ rather than just a single layer $\\ell$; then the total style loss is the sum of style losses at each layer:\n",
        "\n",
        "$$L_s = \\sum_{\\ell \\in \\mathcal{L}} L_s^\\ell$$\n",
        "\n",
        "Begin by implementing the Gram matrix computation below:"
      ]
    },
    {
      "cell_type": "code",
      "metadata": {
        "colab_type": "code",
        "id": "vgZBcdvnfC6Z",
        "colab": {}
      },
      "source": [
        "def gram_matrix(features, normalize=True):\n",
        "    \"\"\"\n",
        "    Compute the Gram matrix from features.\n",
        "    \n",
        "    Inputs:\n",
        "    - features: PyTorch Tensor of shape (N, C, H, W) giving features for\n",
        "      a batch of N images.\n",
        "    - normalize: optional, whether to normalize the Gram matrix\n",
        "        If True, divide the Gram matrix by the number of neurons (H * W * C)\n",
        "    \n",
        "    Returns:\n",
        "    - gram: PyTorch Tensor of shape (N, C, C) giving the\n",
        "      (optionally normalized) Gram matrices for the N input images.\n",
        "    \"\"\"\n",
        "    ##############################################################################\n",
        "    # TODO: Compute the Gram matrix from features.                               #\n",
        "    ##############################################################################\n",
        "    # Replace \"pass\" statement with your code\n",
        "    # https://pytorch.org/tutorials/advanced/neural_style_tutorial.html\n",
        "    a, b, c, d = features.shape\n",
        "    feat = features.contiguous().view(a * b, c * d)\n",
        "    return torch.mm(feat, feat.t()) / (a * b * c * d)\n",
        "    ##############################################################################\n",
        "    #                               END OF YOUR CODE                             #\n",
        "    ##############################################################################"
      ],
      "execution_count": 0,
      "outputs": []
    },
    {
      "cell_type": "markdown",
      "metadata": {
        "colab_type": "text",
        "id": "LfM61tuLfC6c"
      },
      "source": [
        "Test your Gram matrix code. You should see errors less than 0.001."
      ]
    },
    {
      "cell_type": "code",
      "metadata": {
        "colab_type": "code",
        "id": "P0bSzc7ofC6d",
        "colab": {
          "base_uri": "https://localhost:8080/",
          "height": 72
        },
        "outputId": "46ba7cab-72ff-41a0-9ea5-43356ac06eae"
      },
      "source": [
        "def gram_matrix_test(correct):\n",
        "    style_image = 'styles/starry_night.jpg'\n",
        "    style_size = 192\n",
        "    feats, _ = features_from_img(style_image, style_size)\n",
        "    student_output = gram_matrix(feats[5].clone())\n",
        "    error = rel_error(correct, student_output)\n",
        "    print('Maximum error is {:.3f}'.format(error))\n",
        "    \n",
        "gram_matrix_test(torch.from_numpy(answers['gm_out']).type(dtype))"
      ],
      "execution_count": 39,
      "outputs": [
        {
          "output_type": "stream",
          "text": [
            "features.shape =  torch.Size([1, 128, 23, 30])\n",
            "feat.shape =  torch.Size([128, 690])\n",
            "Maximum error is 0.000\n"
          ],
          "name": "stdout"
        }
      ]
    },
    {
      "cell_type": "markdown",
      "metadata": {
        "colab_type": "text",
        "id": "ywrveISrfC6f"
      },
      "source": [
        "Next, implement the style loss:"
      ]
    },
    {
      "cell_type": "code",
      "metadata": {
        "colab_type": "code",
        "id": "A9pxM7ftfC6h",
        "colab": {}
      },
      "source": [
        "# Now put it together in the style_loss function...\n",
        "def style_loss(feats, style_layers, style_targets, style_weights):\n",
        "    \"\"\"\n",
        "    Computes the style loss at a set of layers.\n",
        "    \n",
        "    Inputs:\n",
        "    - feats: list of the features at every layer of the current image, as produced by\n",
        "      the extract_features function.\n",
        "    - style_layers: List of layer indices into feats giving the layers to include in the\n",
        "      style loss.\n",
        "    - style_targets: List of the same length as style_layers, where style_targets[i] is\n",
        "      a PyTorch Tensor giving the Gram matrix of the source style image computed at\n",
        "      layer style_layers[i].\n",
        "    - style_weights: List of the same length as style_layers, where style_weights[i]\n",
        "      is a scalar giving the weight for the style loss at layer style_layers[i].\n",
        "      \n",
        "    Returns:\n",
        "    - style_loss: A PyTorch Tensor holding a scalar giving the style loss.\n",
        "    \"\"\"\n",
        "    ##############################################################################\n",
        "    # TODO: Computes the style loss at a set of layers.                          #\n",
        "    # Hint: you can do this with one for loop over the style layers, and should  #\n",
        "    # not be very much code (~5 lines).                                          #\n",
        "    # You will need to use your gram_matrix function.                            #\n",
        "    ##############################################################################\n",
        "    # Replace \"pass\" statement with your code\n",
        "    style_loss = 0\n",
        "    for i in range(len(style_layers)):\n",
        "      k = style_layers[i]\n",
        "      gm_feat = gram_matrix(feats[k])\n",
        "      print('gm_feat.shape = ', gm_feat.shape)\n",
        "      print('style_targets[k].shape = ', style_targets[k].shape)\n",
        "\n",
        "      print('style_weights = ', style_weights)\n",
        "      style_loss = style_loss + content_loss(style_weights[k], gm_feat, style_targets[k])\n",
        "    return style_loss\n",
        "    ##############################################################################\n",
        "    #                               END OF YOUR CODE                             #\n",
        "    ##############################################################################"
      ],
      "execution_count": 0,
      "outputs": []
    },
    {
      "cell_type": "markdown",
      "metadata": {
        "colab_type": "text",
        "id": "-lYLy1k7fC6l"
      },
      "source": [
        "Test your style loss implementation. The error should be less than 0.001."
      ]
    },
    {
      "cell_type": "code",
      "metadata": {
        "colab_type": "code",
        "id": "Rl3GvublfC6m",
        "colab": {
          "base_uri": "https://localhost:8080/",
          "height": 414
        },
        "outputId": "6a13ef4f-4f9b-4b95-e24a-f2ef9ab367c8"
      },
      "source": [
        "def style_loss_test(correct):\n",
        "    content_image = 'styles/tubingen.jpg'\n",
        "    style_image = 'styles/starry_night.jpg'\n",
        "    image_size =  192\n",
        "    style_size = 192\n",
        "    style_layers = [1, 4, 6, 7]\n",
        "    style_weights = [300000, 1000, 15, 3]\n",
        "    \n",
        "    c_feats, _ = features_from_img(content_image, image_size)    \n",
        "    feats, _ = features_from_img(style_image, style_size)\n",
        "    style_targets = []\n",
        "    for idx in style_layers:\n",
        "        style_targets.append(gram_matrix(feats[idx].clone()))\n",
        "    \n",
        "    student_output = style_loss(c_feats, style_layers, style_targets, style_weights)\n",
        "    error = rel_error(correct, student_output)\n",
        "    print('Error is {:.3f}'.format(error))\n",
        "\n",
        "    \n",
        "style_loss_test(torch.from_numpy(answers['sl_out']).type(dtype))"
      ],
      "execution_count": 51,
      "outputs": [
        {
          "output_type": "stream",
          "text": [
            "gm_feat.shape =  torch.Size([64, 64])\n",
            "style_targets[k].shape =  torch.Size([128, 128])\n",
            "style_weights =  [300000, 1000, 15, 3]\n"
          ],
          "name": "stdout"
        },
        {
          "output_type": "error",
          "ename": "RuntimeError",
          "evalue": "ignored",
          "traceback": [
            "\u001b[0;31m---------------------------------------------------------------------------\u001b[0m",
            "\u001b[0;31mRuntimeError\u001b[0m                              Traceback (most recent call last)",
            "\u001b[0;32m<ipython-input-51-38beb0d61025>\u001b[0m in \u001b[0;36m<module>\u001b[0;34m()\u001b[0m\n\u001b[1;32m     18\u001b[0m \u001b[0;34m\u001b[0m\u001b[0m\n\u001b[1;32m     19\u001b[0m \u001b[0;34m\u001b[0m\u001b[0m\n\u001b[0;32m---> 20\u001b[0;31m \u001b[0mstyle_loss_test\u001b[0m\u001b[0;34m(\u001b[0m\u001b[0mtorch\u001b[0m\u001b[0;34m.\u001b[0m\u001b[0mfrom_numpy\u001b[0m\u001b[0;34m(\u001b[0m\u001b[0manswers\u001b[0m\u001b[0;34m[\u001b[0m\u001b[0;34m'sl_out'\u001b[0m\u001b[0;34m]\u001b[0m\u001b[0;34m)\u001b[0m\u001b[0;34m.\u001b[0m\u001b[0mtype\u001b[0m\u001b[0;34m(\u001b[0m\u001b[0mdtype\u001b[0m\u001b[0;34m)\u001b[0m\u001b[0;34m)\u001b[0m\u001b[0;34m\u001b[0m\u001b[0;34m\u001b[0m\u001b[0m\n\u001b[0m",
            "\u001b[0;32m<ipython-input-51-38beb0d61025>\u001b[0m in \u001b[0;36mstyle_loss_test\u001b[0;34m(correct)\u001b[0m\n\u001b[1;32m     13\u001b[0m         \u001b[0mstyle_targets\u001b[0m\u001b[0;34m.\u001b[0m\u001b[0mappend\u001b[0m\u001b[0;34m(\u001b[0m\u001b[0mgram_matrix\u001b[0m\u001b[0;34m(\u001b[0m\u001b[0mfeats\u001b[0m\u001b[0;34m[\u001b[0m\u001b[0midx\u001b[0m\u001b[0;34m]\u001b[0m\u001b[0;34m.\u001b[0m\u001b[0mclone\u001b[0m\u001b[0;34m(\u001b[0m\u001b[0;34m)\u001b[0m\u001b[0;34m)\u001b[0m\u001b[0;34m)\u001b[0m\u001b[0;34m\u001b[0m\u001b[0;34m\u001b[0m\u001b[0m\n\u001b[1;32m     14\u001b[0m \u001b[0;34m\u001b[0m\u001b[0m\n\u001b[0;32m---> 15\u001b[0;31m     \u001b[0mstudent_output\u001b[0m \u001b[0;34m=\u001b[0m \u001b[0mstyle_loss\u001b[0m\u001b[0;34m(\u001b[0m\u001b[0mc_feats\u001b[0m\u001b[0;34m,\u001b[0m \u001b[0mstyle_layers\u001b[0m\u001b[0;34m,\u001b[0m \u001b[0mstyle_targets\u001b[0m\u001b[0;34m,\u001b[0m \u001b[0mstyle_weights\u001b[0m\u001b[0;34m)\u001b[0m\u001b[0;34m\u001b[0m\u001b[0;34m\u001b[0m\u001b[0m\n\u001b[0m\u001b[1;32m     16\u001b[0m     \u001b[0merror\u001b[0m \u001b[0;34m=\u001b[0m \u001b[0mrel_error\u001b[0m\u001b[0;34m(\u001b[0m\u001b[0mcorrect\u001b[0m\u001b[0;34m,\u001b[0m \u001b[0mstudent_output\u001b[0m\u001b[0;34m)\u001b[0m\u001b[0;34m\u001b[0m\u001b[0;34m\u001b[0m\u001b[0m\n\u001b[1;32m     17\u001b[0m     \u001b[0mprint\u001b[0m\u001b[0;34m(\u001b[0m\u001b[0;34m'Error is {:.3f}'\u001b[0m\u001b[0;34m.\u001b[0m\u001b[0mformat\u001b[0m\u001b[0;34m(\u001b[0m\u001b[0merror\u001b[0m\u001b[0;34m)\u001b[0m\u001b[0;34m)\u001b[0m\u001b[0;34m\u001b[0m\u001b[0;34m\u001b[0m\u001b[0m\n",
            "\u001b[0;32m<ipython-input-50-327e9c1bdaef>\u001b[0m in \u001b[0;36mstyle_loss\u001b[0;34m(feats, style_layers, style_targets, style_weights)\u001b[0m\n\u001b[1;32m     32\u001b[0m \u001b[0;34m\u001b[0m\u001b[0m\n\u001b[1;32m     33\u001b[0m       \u001b[0mprint\u001b[0m\u001b[0;34m(\u001b[0m\u001b[0;34m'style_weights = '\u001b[0m\u001b[0;34m,\u001b[0m \u001b[0mstyle_weights\u001b[0m\u001b[0;34m)\u001b[0m\u001b[0;34m\u001b[0m\u001b[0;34m\u001b[0m\u001b[0m\n\u001b[0;32m---> 34\u001b[0;31m       \u001b[0mstyle_loss\u001b[0m \u001b[0;34m=\u001b[0m \u001b[0mstyle_loss\u001b[0m \u001b[0;34m+\u001b[0m \u001b[0mcontent_loss\u001b[0m\u001b[0;34m(\u001b[0m\u001b[0mstyle_weights\u001b[0m\u001b[0;34m[\u001b[0m\u001b[0mk\u001b[0m\u001b[0;34m]\u001b[0m\u001b[0;34m,\u001b[0m \u001b[0mgm_feat\u001b[0m\u001b[0;34m,\u001b[0m \u001b[0mstyle_targets\u001b[0m\u001b[0;34m[\u001b[0m\u001b[0mk\u001b[0m\u001b[0;34m]\u001b[0m\u001b[0;34m)\u001b[0m\u001b[0;34m\u001b[0m\u001b[0;34m\u001b[0m\u001b[0m\n\u001b[0m\u001b[1;32m     35\u001b[0m     \u001b[0;32mreturn\u001b[0m \u001b[0mstyle_loss\u001b[0m\u001b[0;34m\u001b[0m\u001b[0;34m\u001b[0m\u001b[0m\n\u001b[1;32m     36\u001b[0m     \u001b[0;31m##############################################################################\u001b[0m\u001b[0;34m\u001b[0m\u001b[0;34m\u001b[0m\u001b[0;34m\u001b[0m\u001b[0m\n",
            "\u001b[0;32m<ipython-input-7-1ba5cba24e8c>\u001b[0m in \u001b[0;36mcontent_loss\u001b[0;34m(content_weight, content_current, content_original)\u001b[0m\n\u001b[1;32m     16\u001b[0m     \u001b[0;31m##############################################################################\u001b[0m\u001b[0;34m\u001b[0m\u001b[0;34m\u001b[0m\u001b[0;34m\u001b[0m\u001b[0m\n\u001b[1;32m     17\u001b[0m     \u001b[0;31m# Replace \"pass\" statement with your code\u001b[0m\u001b[0;34m\u001b[0m\u001b[0;34m\u001b[0m\u001b[0;34m\u001b[0m\u001b[0m\n\u001b[0;32m---> 18\u001b[0;31m     \u001b[0;32mreturn\u001b[0m \u001b[0mcontent_weight\u001b[0m \u001b[0;34m*\u001b[0m \u001b[0mtorch\u001b[0m\u001b[0;34m.\u001b[0m\u001b[0msum\u001b[0m\u001b[0;34m(\u001b[0m\u001b[0;34m(\u001b[0m\u001b[0mcontent_current\u001b[0m \u001b[0;34m-\u001b[0m \u001b[0mcontent_original\u001b[0m\u001b[0;34m)\u001b[0m \u001b[0;34m**\u001b[0m \u001b[0;36m2\u001b[0m\u001b[0;34m)\u001b[0m\u001b[0;34m\u001b[0m\u001b[0;34m\u001b[0m\u001b[0m\n\u001b[0m\u001b[1;32m     19\u001b[0m     \u001b[0;31m##############################################################################\u001b[0m\u001b[0;34m\u001b[0m\u001b[0;34m\u001b[0m\u001b[0;34m\u001b[0m\u001b[0m\n\u001b[1;32m     20\u001b[0m     \u001b[0;31m#                               END OF YOUR CODE                             #\u001b[0m\u001b[0;34m\u001b[0m\u001b[0;34m\u001b[0m\u001b[0;34m\u001b[0m\u001b[0m\n",
            "\u001b[0;31mRuntimeError\u001b[0m: The size of tensor a (64) must match the size of tensor b (128) at non-singleton dimension 1"
          ]
        }
      ]
    },
    {
      "cell_type": "markdown",
      "metadata": {
        "colab_type": "text",
        "id": "B7jBB_XyfC6p"
      },
      "source": [
        "## Total-variation regularization\n",
        "It turns out that it's helpful to also encourage smoothness in the image. We can do this by adding another term to our loss that penalizes wiggles or \"total variation\" in the pixel values. \n",
        "\n",
        "You can compute the \"total variation\" as the sum of the squares of differences in the pixel values for all pairs of pixels that are next to each other (horizontally or vertically). Here we sum the total-variation regualarization for each of the 3 input channels (RGB), and weight the total summed loss by the total variation weight, $w_t$:\n",
        "\n",
        "$L_{tv} = w_t \\times \\left(\\sum_{c=1}^3\\sum_{i=1}^{H-1}\\sum_{j=1}^{W} (x_{i+1,j,c} - x_{i,j,c})^2 + \\sum_{c=1}^3\\sum_{i=1}^{H}\\sum_{j=1}^{W - 1} (x_{i,j+1,c} - x_{i,j,c})^2\\right)$\n",
        "\n",
        "In the next cell, fill in the definition for the TV loss term. To receive full credit, your implementation should not have any loops."
      ]
    },
    {
      "cell_type": "code",
      "metadata": {
        "colab_type": "code",
        "id": "zeaKmyBDfC6r",
        "colab": {}
      },
      "source": [
        "def tv_loss(img, tv_weight):\n",
        "    \"\"\"\n",
        "    Compute total variation loss.\n",
        "    \n",
        "    Inputs:\n",
        "    - img: PyTorch Variable of shape (1, 3, H, W) holding an input image.\n",
        "    - tv_weight: Scalar giving the weight w_t to use for the TV loss.\n",
        "    \n",
        "    Returns:\n",
        "    - loss: PyTorch Variable holding a scalar giving the total variation loss\n",
        "      for img weighted by tv_weight.\n",
        "    \"\"\"\n",
        "    ##############################################################################\n",
        "    # TODO: Compute total variation loss.                                        #\n",
        "    # Your implementation should be vectorized and not require any loops!        #\n",
        "    ##############################################################################\n",
        "    # Replace \"pass\" statement with your code\n",
        "    pass\n",
        "    ##############################################################################\n",
        "    #                               END OF YOUR CODE                             #\n",
        "    ##############################################################################"
      ],
      "execution_count": 0,
      "outputs": []
    },
    {
      "cell_type": "markdown",
      "metadata": {
        "colab_type": "text",
        "id": "-9PQlGhefC6w"
      },
      "source": [
        "Test your TV loss implementation. Error should be less  than 0.0001."
      ]
    },
    {
      "cell_type": "code",
      "metadata": {
        "colab_type": "code",
        "id": "KvBkaVFTfC6x",
        "colab": {}
      },
      "source": [
        "def tv_loss_test(correct):\n",
        "    content_image = 'styles/tubingen.jpg'\n",
        "    image_size =  192\n",
        "    tv_weight = 2e-2\n",
        "\n",
        "    content_img = preprocess(PIL.Image.open(content_image), size=image_size).type(dtype)\n",
        "    \n",
        "    student_output = tv_loss(content_img, tv_weight)\n",
        "    error = rel_error(correct, student_output)\n",
        "    print('Error is {:.3f}'.format(error))\n",
        "    \n",
        "tv_loss_test(torch.from_numpy(answers['tv_out']).type(dtype))"
      ],
      "execution_count": 0,
      "outputs": []
    },
    {
      "cell_type": "markdown",
      "metadata": {
        "colab_type": "text",
        "id": "pgwte9i5fC61"
      },
      "source": [
        "Now we're ready to string it all together (you shouldn't have to modify this function):"
      ]
    },
    {
      "cell_type": "code",
      "metadata": {
        "colab_type": "code",
        "id": "KPvMPDVcfC61",
        "tags": [
          "pdf-ignore"
        ],
        "colab": {}
      },
      "source": [
        "def style_transfer(content_image, style_image, image_size, style_size, content_layer, content_weight,\n",
        "                   style_layers, style_weights, tv_weight, init_random = False):\n",
        "    \"\"\"\n",
        "    Run style transfer!\n",
        "    \n",
        "    Inputs:\n",
        "    - content_image: filename of content image\n",
        "    - style_image: filename of style image\n",
        "    - image_size: size of smallest image dimension (used for content loss and generated image)\n",
        "    - style_size: size of smallest style image dimension\n",
        "    - content_layer: layer to use for content loss\n",
        "    - content_weight: weighting on content loss\n",
        "    - style_layers: list of layers to use for style loss\n",
        "    - style_weights: list of weights to use for each layer in style_layers\n",
        "    - tv_weight: weight of total variation regularization term\n",
        "    - init_random: initialize the starting image to uniform random noise\n",
        "    \"\"\"\n",
        "    \n",
        "    # Extract features for the content image\n",
        "    content_img = preprocess(PIL.Image.open(content_image), size=image_size).type(dtype)\n",
        "    feats = extract_features(content_img, cnn)\n",
        "    content_target = feats[content_layer].clone()\n",
        "\n",
        "    # Extract features for the style image\n",
        "    style_img = preprocess(PIL.Image.open(style_image), size=style_size).type(dtype)\n",
        "    feats = extract_features(style_img, cnn)\n",
        "    style_targets = []\n",
        "    for idx in style_layers:\n",
        "        style_targets.append(gram_matrix(feats[idx].clone()))\n",
        "\n",
        "    # Initialize output image to content image or nois\n",
        "    if init_random:\n",
        "        img = torch.Tensor(content_img.size()).uniform_(0, 1).type(dtype)\n",
        "    else:\n",
        "        img = content_img.clone().type(dtype)\n",
        "\n",
        "    # We do want the gradient computed on our image!\n",
        "    img.requires_grad_()\n",
        "    \n",
        "    # Set up optimization hyperparameters\n",
        "    initial_lr = 3.0\n",
        "    decayed_lr = 0.1\n",
        "    decay_lr_at = 180\n",
        "\n",
        "    # Note that we are optimizing the pixel values of the image by passing\n",
        "    # in the img Torch tensor, whose requires_grad flag is set to True\n",
        "    optimizer = torch.optim.Adam([img], lr=initial_lr)\n",
        "    \n",
        "    f, axarr = plt.subplots(1,2)\n",
        "    axarr[0].axis('off')\n",
        "    axarr[1].axis('off')\n",
        "    axarr[0].set_title('Content Source Img.')\n",
        "    axarr[1].set_title('Style Source Img.')\n",
        "    axarr[0].imshow(deprocess(content_img.cpu()))\n",
        "    axarr[1].imshow(deprocess(style_img.cpu()))\n",
        "    plt.show()\n",
        "    plt.figure()\n",
        "    \n",
        "    for t in range(200):\n",
        "        if t < 190:\n",
        "            img.data.clamp_(-1.5, 1.5)\n",
        "        optimizer.zero_grad()\n",
        "\n",
        "        feats = extract_features(img, cnn)\n",
        "        \n",
        "        # Compute loss\n",
        "        c_loss = content_loss(content_weight, feats[content_layer], content_target)\n",
        "        s_loss = style_loss(feats, style_layers, style_targets, style_weights)\n",
        "        t_loss = tv_loss(img, tv_weight) \n",
        "        loss = c_loss + s_loss + t_loss\n",
        "        \n",
        "        loss.backward()\n",
        "\n",
        "        # Perform gradient descents on our image values\n",
        "        if t == decay_lr_at:\n",
        "            optimizer = torch.optim.Adam([img], lr=decayed_lr)\n",
        "        optimizer.step()\n",
        "\n",
        "        if t % 100 == 0:\n",
        "            print('Iteration {}'.format(t))\n",
        "            plt.axis('off')\n",
        "            plt.imshow(deprocess(img.data.cpu()))\n",
        "            plt.show()\n",
        "    print('Iteration {}'.format(t))\n",
        "    plt.axis('off')\n",
        "    plt.imshow(deprocess(img.data.cpu()))\n",
        "    plt.show()"
      ],
      "execution_count": 0,
      "outputs": []
    },
    {
      "cell_type": "markdown",
      "metadata": {
        "colab_type": "text",
        "id": "6u28v-BVfC64"
      },
      "source": [
        "## Generate some pretty pictures!\n",
        "\n",
        "Try out `style_transfer` on the three different parameter sets below. Make sure to run all three cells. Feel free to add your own, but make sure to include the results of style transfer on the third parameter set (starry night) in your submitted notebook.\n",
        "\n",
        "* The `content_image` is the filename of content image.\n",
        "* The `style_image` is the filename of style image.\n",
        "* The `image_size` is the size of smallest image dimension of the content image (used for content loss and generated image).\n",
        "* The `style_size` is the size of smallest style image dimension.\n",
        "* The `content_layer` specifies which layer to use for content loss.\n",
        "* The `content_weight` gives weighting on content loss in the overall loss function. Increasing the value of this parameter will make the final image look more realistic (closer to the original content).\n",
        "* `style_layers` specifies a list of which layers to use for style loss. \n",
        "* `style_weights` specifies a list of weights to use for each layer in style_layers (each of which will contribute a term to the overall style loss). We generally use higher weights for the earlier style layers because they describe more local/smaller scale features, which are more important to texture than features over larger receptive fields. In general, increasing these weights will make the resulting image look less like the original content and more distorted towards the appearance of the style image.\n",
        "* `tv_weight` specifies the weighting of total variation regularization in the overall loss function. Increasing this value makes the resulting image look smoother and less jagged, at the cost of lower fidelity to style and content. \n",
        "\n",
        "Below the next three cells of code (in which you shouldn't change the hyperparameters), feel free to copy and paste the parameters to play around them and see how the resulting image changes. "
      ]
    },
    {
      "cell_type": "code",
      "metadata": {
        "colab_type": "code",
        "id": "uzvvWwKYfC64",
        "colab": {}
      },
      "source": [
        "# Composition VII + Tubingen\n",
        "params1 = {\n",
        "    'content_image' : 'styles/tubingen.jpg',\n",
        "    'style_image' : 'styles/composition_vii.jpg',\n",
        "    'image_size' : 192,\n",
        "    'style_size' : 512,\n",
        "    'content_layer' : 3,\n",
        "    'content_weight' : 5e-2, \n",
        "    'style_layers' : (1, 4, 6, 7),\n",
        "    'style_weights' : (20000, 500, 12, 1),\n",
        "    'tv_weight' : 5e-2\n",
        "}\n",
        "\n",
        "style_transfer(**params1)"
      ],
      "execution_count": 0,
      "outputs": []
    },
    {
      "cell_type": "code",
      "metadata": {
        "colab_type": "code",
        "id": "sBUin4IdfC67",
        "colab": {}
      },
      "source": [
        "# Scream + Tubingen\n",
        "params2 = {\n",
        "    'content_image':'styles/tubingen.jpg',\n",
        "    'style_image':'styles/the_scream.jpg',\n",
        "    'image_size':192,\n",
        "    'style_size':224,\n",
        "    'content_layer':3,\n",
        "    'content_weight':3e-2,\n",
        "    'style_layers':[1, 4, 6, 7],\n",
        "    'style_weights':[200000, 800, 12, 1],\n",
        "    'tv_weight':2e-2\n",
        "}\n",
        "\n",
        "style_transfer(**params2)"
      ],
      "execution_count": 0,
      "outputs": []
    },
    {
      "cell_type": "code",
      "metadata": {
        "colab_type": "code",
        "id": "LbAsG4bAfC69",
        "colab": {}
      },
      "source": [
        "# Starry Night + Tubingen\n",
        "params3 = {\n",
        "    'content_image' : 'styles/tubingen.jpg',\n",
        "    'style_image' : 'styles/starry_night.jpg',\n",
        "    'image_size' : 192,\n",
        "    'style_size' : 192,\n",
        "    'content_layer' : 3,\n",
        "    'content_weight' : 6e-2,\n",
        "    'style_layers' : [1, 4, 6, 7],\n",
        "    'style_weights' : [300000, 1000, 15, 3],\n",
        "    'tv_weight' : 2e-2\n",
        "}\n",
        "\n",
        "style_transfer(**params3)"
      ],
      "execution_count": 0,
      "outputs": []
    },
    {
      "cell_type": "markdown",
      "metadata": {
        "colab_type": "text",
        "id": "STN3UWY0fC6_",
        "scrolled": true
      },
      "source": [
        "## Feature Inversion\n",
        "\n",
        "The code you've written can do another cool thing. In an attempt to understand the types of features that convolutional networks learn to recognize, a recent paper [1] attempts to reconstruct an image from its feature representation. We can easily implement this idea using image gradients from the pretrained network, which is exactly what we did above (but with two different feature representations).\n",
        "\n",
        "Now, if you set the style weights to all be 0 and initialize the starting image to random noise instead of the content source image, you'll reconstruct an image from the feature representation of the content source image. You're starting with total noise, but you should end up with something that looks quite a bit like your original image.\n",
        "\n",
        "(Similarly, you could do \"texture synthesis\" from scratch if you set the content weight to 0 and initialize the starting image to random noise, but we won't ask you to do that here.) \n",
        "\n",
        "Run the following cell to try out feature inversion.\n",
        "\n",
        "[1] Aravindh Mahendran, Andrea Vedaldi, \"Understanding Deep Image Representations by Inverting them\", CVPR 2015\n"
      ]
    },
    {
      "cell_type": "code",
      "metadata": {
        "colab_type": "code",
        "id": "BuhhqmjkfC6_",
        "colab": {}
      },
      "source": [
        "# Feature Inversion -- Starry Night + Tubingen\n",
        "params_inv = {\n",
        "    'content_image' : 'styles/tubingen.jpg',\n",
        "    'style_image' : 'styles/starry_night.jpg',\n",
        "    'image_size' : 192,\n",
        "    'style_size' : 192,\n",
        "    'content_layer' : 3,\n",
        "    'content_weight' : 6e-2,\n",
        "    'style_layers' : [1, 4, 6, 7],\n",
        "    'style_weights' : [0, 0, 0, 0], # we discard any contributions from style to the loss\n",
        "    'tv_weight' : 2e-2,\n",
        "    'init_random': True # we want to initialize our image to be random\n",
        "}\n",
        "\n",
        "style_transfer(**params_inv)"
      ],
      "execution_count": 0,
      "outputs": []
    }
  ]
}