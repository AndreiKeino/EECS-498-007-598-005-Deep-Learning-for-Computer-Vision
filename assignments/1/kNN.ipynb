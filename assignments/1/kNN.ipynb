{
  "nbformat": 4,
  "nbformat_minor": 0,
  "metadata": {
    "colab": {
      "name": "kNN.ipynb",
      "provenance": [],
      "collapsed_sections": []
    },
    "kernelspec": {
      "display_name": "Python 3",
      "name": "python3"
    }
  },
  "cells": [
    {
      "cell_type": "markdown",
      "metadata": {
        "colab_type": "text",
        "id": "QcJK3kXl--c3"
      },
      "source": [
        "# EECS 498-007/598-005 Assignment 1-2: K-Nearest Neighbors (k-NN)\n",
        "\n",
        "Before we start, please put your name and UMID in following format\n",
        "\n",
        ": Firstname LASTNAME, #00000000   //   e.g.) Justin JOHNSON, #12345678"
      ]
    },
    {
      "cell_type": "markdown",
      "metadata": {
        "colab_type": "text",
        "id": "7sA2iBcm_cPb"
      },
      "source": [
        "**Your Answer:**   \n",
        "Hello WORLD, #XXXXXXXX"
      ]
    },
    {
      "cell_type": "markdown",
      "metadata": {
        "colab_type": "text",
        "id": "Qc83ETI1a3o9"
      },
      "source": [
        "## K-Nearest Neighbors (k-NN)\n",
        "In this notebook you will implement a K-Nearest Neighbors classifier on the [CIFAR-10 dataset](https://www.cs.toronto.edu/~kriz/cifar.html).\n",
        "\n",
        "Recall that the K-Nearest Neighbor classifier does the following:\n",
        "- During training, the classifier simply memorizes the training data\n",
        "- During testing, test images are compared to each training image; the predicted label is the majority vote among the K nearest training examples.\n",
        "\n",
        "After implementing the K-Nearest Neighbor classifier, you will use *cross-validation* to find the best value of K.\n",
        "\n",
        "The goals of this exercise are to go through a simple example of the data-driven image classification pipeline, and also to practice writing efficient, vectorized code in [PyTorch](https://pytorch.org/)."
      ]
    },
    {
      "cell_type": "markdown",
      "metadata": {
        "colab_type": "text",
        "id": "hQrEwOpXb9Gh"
      },
      "source": [
        "## Install starter code\n",
        "We have implemented some utility functions for this exercise in the [`coutils` package](https://github.com/deepvision-class/starter-code). Run this cell to download and install it.\n",
        "\n"
      ]
    },
    {
      "cell_type": "code",
      "metadata": {
        "colab_type": "code",
        "id": "73cuTs3re6wg",
        "colab": {}
      },
      "source": [
        "!pip install git+https://github.com/deepvision-class/starter-code"
      ],
      "execution_count": 0,
      "outputs": []
    },
    {
      "cell_type": "markdown",
      "metadata": {
        "colab_type": "text",
        "id": "emQnvtnFeX1H"
      },
      "source": [
        "## Setup code\n",
        "Run some setup code for this notebook: Import some useful packages and increase the default figure size."
      ]
    },
    {
      "cell_type": "code",
      "metadata": {
        "colab_type": "code",
        "id": "Tf64a0TS8zh7",
        "colab": {}
      },
      "source": [
        "import coutils\n",
        "import torch\n",
        "import torchvision\n",
        "import matplotlib.pyplot as plt\n",
        "import statistics\n",
        "\n",
        "plt.rcParams['figure.figsize'] = (10.0, 8.0)\n",
        "plt.rcParams['font.size'] = 16"
      ],
      "execution_count": 0,
      "outputs": []
    },
    {
      "cell_type": "markdown",
      "metadata": {
        "colab_type": "text",
        "id": "GSd6jQb4epkC"
      },
      "source": [
        "## Load the CIFAR-10 dataset\n",
        "The utility function `coutils.data.cifar10()` returns the entire CIFAR-10 dataset as a set of four **Torch tensors**:\n",
        "\n",
        "- `x_train` contains all training images (real numbers in the range $[0, 1]$)\n",
        "- `y_train` contains all training labels (integers in the range $[0, 9]$)\n",
        "- `x_test` contains all test images\n",
        "- `y_test` contains all test labels\n",
        "\n",
        "This function automatically downloads the CIFAR-10 dataset the first time you run it."
      ]
    },
    {
      "cell_type": "code",
      "metadata": {
        "colab_type": "code",
        "id": "y2JiLb-R9bFb",
        "colab": {}
      },
      "source": [
        "x_train, y_train, x_test, y_test = coutils.data.cifar10()\n",
        "\n",
        "print('Training set:', )\n",
        "print('  data shape:', x_train.shape)\n",
        "print('  labels shape: ', y_train.shape)\n",
        "print('Test set:')\n",
        "print('  data shape: ', x_test.shape)\n",
        "print('  labels shape', y_test.shape)"
      ],
      "execution_count": 0,
      "outputs": []
    },
    {
      "cell_type": "markdown",
      "metadata": {
        "colab_type": "text",
        "id": "AKKdLGIIffYx"
      },
      "source": [
        "## Visualize the dataset\n",
        "To give you a sense of the nature of the images in CIFAR-10, this cell visualizes some random examples from the training set."
      ]
    },
    {
      "cell_type": "code",
      "metadata": {
        "colab_type": "code",
        "id": "UMNVrzrd-d_y",
        "colab": {}
      },
      "source": [
        "import random\n",
        "from torchvision.utils import make_grid\n",
        "\n",
        "classes = ['plane', 'car', 'bird', 'cat', 'deer', 'dog', 'frog', 'horse', 'ship', 'truck']\n",
        "samples_per_class = 12\n",
        "samples = []\n",
        "for y, cls in enumerate(classes):\n",
        "  plt.text(-4, 34 * y + 18, cls, ha='right')\n",
        "  idxs = (y_train == y).nonzero().view(-1)\n",
        "  for i in range(samples_per_class):\n",
        "    idx = idxs[random.randrange(idxs.shape[0])].item()\n",
        "    samples.append(x_train[idx])\n",
        "img = torchvision.utils.make_grid(samples, nrow=samples_per_class)\n",
        "plt.imshow(coutils.tensor_to_image(img))\n",
        "plt.axis('off')\n",
        "plt.show()"
      ],
      "execution_count": 0,
      "outputs": []
    },
    {
      "cell_type": "markdown",
      "metadata": {
        "colab_type": "text",
        "id": "-nLyYUhBgDKp"
      },
      "source": [
        "## Subsample the dataset\n",
        "When implementing machine learning algorithms, it's usually a good idea to use a small sample of the full dataset. This way your code will run much faster, allowing for more interactive and efficient development. Once you are satisfied that you have correctly implemented the algorithm, you can then rerun with the entire dataset.\n",
        "\n",
        "The function `coutils.data.cifar10()` can automatically subsample the CIFAR10 dataset for us. To see how to use it, we can check the documentation using the built-in `help` command:"
      ]
    },
    {
      "cell_type": "code",
      "metadata": {
        "colab_type": "code",
        "id": "K5CYSO_ugyno",
        "colab": {}
      },
      "source": [
        "help(coutils.data.cifar10)"
      ],
      "execution_count": 0,
      "outputs": []
    },
    {
      "cell_type": "markdown",
      "metadata": {
        "colab_type": "text",
        "id": "DtBIn0xjhPMd"
      },
      "source": [
        "We will subsample the data to use only 500 training examples and 100 test examples:"
      ]
    },
    {
      "cell_type": "code",
      "metadata": {
        "colab_type": "code",
        "id": "FFmXwZbnG9ki",
        "colab": {}
      },
      "source": [
        "num_train = 500\n",
        "num_test = 250\n",
        "\n",
        "x_train, y_train, x_test, y_test = coutils.data.cifar10(num_train, num_test)\n",
        "\n",
        "print('Training set:', )\n",
        "print('  data shape:', x_train.shape)\n",
        "print('  labels shape: ', y_train.shape)\n",
        "print('Test set:')\n",
        "print('  data shape: ', x_test.shape)\n",
        "print('  labels shape', y_test.shape)"
      ],
      "execution_count": 0,
      "outputs": []
    },
    {
      "cell_type": "markdown",
      "metadata": {
        "colab_type": "text",
        "id": "NOZTkdiSmUFc"
      },
      "source": [
        "## Compute distances: Naive implementation\n",
        "Now that we have examined and prepared our data, it is time to implement the kNN classifier. We can break the process down into two steps:\n",
        "\n",
        "1. Compute the (squared Euclidean) distances between all training examples and all test examples\n",
        "2. Given these distances, for each test example find its k nearest neighbors and have them vote for the label to output\n",
        "\n",
        "Lets begin with computing the distance matrix between all training and test examples. First we will implement a naive version of the distance computation, using explicit loops over the training and test sets:\n",
        "\n",
        "**NOTE: When implementing distance functions in this notebook, you may not use the `torch.norm` function (or its instance method variant `x.norm`); you may not use any functions from `torch.nn` or `torch.nn.functional`.**"
      ]
    },
    {
      "cell_type": "code",
      "metadata": {
        "colab_type": "code",
        "id": "4K9SZDDAJ2MG",
        "colab": {}
      },
      "source": [
        "def compute_distances_two_loops(x_train, x_test):\n",
        "  \"\"\"\n",
        "  Computes the squared Euclidean distance between each element of the training\n",
        "  set and each element of the test set. Images should be flattened and treated\n",
        "  as vectors.\n",
        "\n",
        "  This implementation uses a naive set of nested loops over the training and\n",
        "  test data.\n",
        "  \n",
        "  Inputs:\n",
        "  - x_train: Torch tensor of shape (num_train, C, H, W)\n",
        "  - x_test: Torch tensor of shape (num_test, C, H, W)\n",
        "\n",
        "  Returns:\n",
        "  - dists: Torch tensor of shape (num_train, num_test) where dists[i, j] is the\n",
        "    squared Euclidean distance between the ith training point and the jth test\n",
        "    point.\n",
        "  \"\"\"\n",
        "  # Initialize dists to be a tensor of shape (num_train, num_test) with the\n",
        "  # same datatype and device as x_train\n",
        "  num_train = x_train.shape[0]\n",
        "  num_test = x_test.shape[0]\n",
        "  dists = x_train.new_zeros(num_train, num_test)\n",
        "  ##############################################################################\n",
        "  # TODO: Implement this function using a pair of nested loops over the        #\n",
        "  # training data and the test data.                                           #\n",
        "  #                                                                            #\n",
        "  # You may not use torch.norm (or its instance method variant), nor any       #\n",
        "  # functions from torch.nn or torch.nn.functional.                            #\n",
        "  ##############################################################################\n",
        "  # Replace \"pass\" statement with your code\n",
        "  pass\n",
        "  ##############################################################################\n",
        "  #                             END OF YOUR CODE                               #\n",
        "  ##############################################################################\n",
        "  return dists"
      ],
      "execution_count": 0,
      "outputs": []
    },
    {
      "cell_type": "markdown",
      "metadata": {
        "colab_type": "text",
        "id": "mIe6DNnDnzEN"
      },
      "source": [
        "After implementing the function above, we can run it to check that it has the expected shape:"
      ]
    },
    {
      "cell_type": "code",
      "metadata": {
        "colab_type": "code",
        "id": "oHq2bs_MnqVM",
        "colab": {}
      },
      "source": [
        "num_train = 500\n",
        "num_test = 250\n",
        "x_train, y_train, x_test, y_test = coutils.data.cifar10(num_train, num_test)\n",
        "\n",
        "dists = compute_distances_two_loops(x_train, x_test)\n",
        "print('dists has shape: ', dists.shape)"
      ],
      "execution_count": 0,
      "outputs": []
    },
    {
      "cell_type": "markdown",
      "metadata": {
        "colab_type": "text",
        "id": "MGdFIqBEpPcQ"
      },
      "source": [
        "As a visual debugging step, we can visualize the distance matrix, where each row is a test example and each column is a training example."
      ]
    },
    {
      "cell_type": "code",
      "metadata": {
        "colab_type": "code",
        "id": "dshO3kmOKk0T",
        "colab": {}
      },
      "source": [
        "plt.imshow(dists.numpy(), cmap='gray', interpolation='none')\n",
        "plt.colorbar()\n",
        "plt.xlabel('test')\n",
        "plt.ylabel('train')\n",
        "plt.show()"
      ],
      "execution_count": 0,
      "outputs": []
    },
    {
      "cell_type": "markdown",
      "metadata": {
        "colab_type": "text",
        "id": "aHkuvdr_1HqC"
      },
      "source": [
        "## Compute distances: Vectorization\n",
        "Our implementation of the distance computation above is fairly inefficient since it uses nested Python loops over the training and test sets.\n",
        "\n",
        "When implementing algorithms in PyTorch, it's best to avoid loops in Python if possible. Instead it is preferable to implement your computation so that all loops happen inside PyTorch functions. This will usually be much faster than writing your own loops in Python, since PyTorch functions can be internally optimized to iterate efficiently, possibly using multiple threads. This is especially important when using a GPU to accelerate your code.\n",
        "\n",
        "The process of eliminating explict loops from your code is called **vectorization**. Sometimes it is straighforward to vectorize code originally written with loops; other times vectorizing requires thinking about the problem in a new way. We will use vectorization to improve the speed of our distance computation function.\n",
        "\n",
        "As a first step toward vectorizing our distance computation, complete the following implementation which uses only a single Python loop over the training data:"
      ]
    },
    {
      "cell_type": "code",
      "metadata": {
        "colab_type": "code",
        "id": "k7LtQr5UnhGR",
        "colab": {}
      },
      "source": [
        "def compute_distances_one_loop(x_train, x_test):\n",
        "  \"\"\"\n",
        "  Computes the squared Euclidean distance between each element of the training\n",
        "  set and each element of the test set. Images should be flattened and treated\n",
        "  as vectors.\n",
        "\n",
        "  This implementation uses only a single loop over the training data.\n",
        "\n",
        "  Inputs:\n",
        "  - x_train: Torch tensor of shape (num_train, C, H, W)\n",
        "  - x_test: Torch tensor of shape (num_test, C, H, W)\n",
        "\n",
        "  Returns:\n",
        "  - dists: Torch tensor of shape (num_train, num_test) where dists[i, j] is the\n",
        "    squared Euclidean distance between the ith training point and the jth test\n",
        "    point.\n",
        "  \"\"\"\n",
        "  # Initialize dists to be a tensor of shape (num_train, num_test) with the\n",
        "  # same datatype and device as x_train\n",
        "  num_train = x_train.shape[0]\n",
        "  num_test = x_test.shape[0]\n",
        "  dists = x_train.new_zeros(num_train, num_test)\n",
        "  ##############################################################################\n",
        "  # TODO: Implement this function using only a single loop over x_train.       #\n",
        "  #                                                                            #\n",
        "  # You may not use torch.norm (or its instance method variant), nor any       #\n",
        "  # functions from torch.nn or torch.nn.functional.                            #\n",
        "  ##############################################################################\n",
        "  # Replace \"pass\" statement with your code\n",
        "  pass\n",
        "  ##############################################################################\n",
        "  #                             END OF YOUR CODE                               #\n",
        "  ##############################################################################\n",
        "  return dists"
      ],
      "execution_count": 0,
      "outputs": []
    },
    {
      "cell_type": "markdown",
      "metadata": {
        "colab_type": "text",
        "id": "sgS_DCIE5Krb"
      },
      "source": [
        "We can check the correctness of our one-loop implementation by comparing it with our two-loop implementation on some randomly generated data.\n",
        "\n",
        "Note that we do the comparison with 64-bit floating points for increased numeric precision."
      ]
    },
    {
      "cell_type": "code",
      "metadata": {
        "colab_type": "code",
        "id": "ujU8bWch4EmK",
        "colab": {}
      },
      "source": [
        "torch.manual_seed(0)\n",
        "x_train_rand = torch.randn(100, 3, 16, 16, dtype=torch.float64)\n",
        "x_test_rand = torch.randn(100, 3, 16, 16, dtype=torch.float64)\n",
        "\n",
        "dists_one = compute_distances_one_loop(x_train_rand, x_test_rand)\n",
        "dists_two = compute_distances_two_loops(x_train_rand, x_test_rand)\n",
        "difference = (dists_one - dists_two).pow(2).sum().sqrt().item()\n",
        "print('Difference: ', difference)\n",
        "if difference < 1e-4:\n",
        "  print('Good! The distance matrices match')\n",
        "else:\n",
        "  print('Uh-oh! The distance matrices are different')"
      ],
      "execution_count": 0,
      "outputs": []
    },
    {
      "cell_type": "markdown",
      "metadata": {
        "colab_type": "text",
        "id": "gqtIsY6x_kb9"
      },
      "source": [
        "Now implement a fully vectorized version of the distance computation function\n",
        "that does not use any python loops."
      ]
    },
    {
      "cell_type": "code",
      "metadata": {
        "colab_type": "code",
        "id": "LLCP588zsl4Z",
        "colab": {}
      },
      "source": [
        "def compute_distances_no_loops(x_train, x_test):\n",
        "  \"\"\"\n",
        "  Computes the squared Euclidean distance between each element of the training\n",
        "  set and each element of the test set. Images should be flattened and treated\n",
        "  as vectors.\n",
        "\n",
        "  This implementation should not use any Python loops. For memory-efficiency,\n",
        "  it also should not create any large intermediate tensors; in particular you\n",
        "  should not create any intermediate tensors with O(num_train*num_test)\n",
        "  elements.\n",
        "\n",
        "  Inputs:\n",
        "  - x_train: Torch tensor of shape (num_train, C, H, W)\n",
        "  - x_test: Torch tensor of shape (num_test, C, H, W)\n",
        "\n",
        "  Returns:\n",
        "  - dists: Torch tensor of shape (num_train, num_test) where dists[i, j] is the\n",
        "    squared Euclidean distance between the ith training point and the jth test\n",
        "    point.\n",
        "  \"\"\"\n",
        "  # Initialize dists to be a tensor of shape (num_train, num_test) with the\n",
        "  # same datatype and device as x_train\n",
        "  num_train = x_train.shape[0]\n",
        "  num_test = x_test.shape[0]\n",
        "  dists = x_train.new_zeros(num_train, num_test)\n",
        "  ##############################################################################\n",
        "  # TODO: Implement this function without using any explicit loops and without #\n",
        "  # creating any intermediate tensors with O(num_train * num_test) elements.   #\n",
        "  #                                                                            #\n",
        "  # You may not use torch.norm (or its instance method variant), nor any       #\n",
        "  # functions from torch.nn or torch.nn.functional.                            #\n",
        "  #                                                                            #\n",
        "  # HINT: Try to formulate the Euclidean distance using two broadcast sums     #\n",
        "  #       and a matrix multiply.                                               #\n",
        "  ##############################################################################\n",
        "  # Replace \"pass\" statement with your code\n",
        "  pass\n",
        "  ##############################################################################\n",
        "  #                             END OF YOUR CODE                               #\n",
        "  ##############################################################################\n",
        "  return dists"
      ],
      "execution_count": 0,
      "outputs": []
    },
    {
      "cell_type": "markdown",
      "metadata": {
        "colab_type": "text",
        "id": "wxpnPZu__nK-"
      },
      "source": [
        "As before, we can check the correctness of our implementation by comparing the fully vectorized version against the original naive version:"
      ]
    },
    {
      "cell_type": "code",
      "metadata": {
        "colab_type": "code",
        "id": "1RY8QBeS9WYK",
        "colab": {}
      },
      "source": [
        "torch.manual_seed(0)\n",
        "x_train_rand = torch.randn(100, 3, 16, 16, dtype=torch.float64)\n",
        "x_test_rand = torch.randn(100, 3, 16, 16, dtype=torch.float64)\n",
        "\n",
        "dists_two = compute_distances_two_loops(x_train_rand, x_test_rand)\n",
        "dists_none = compute_distances_no_loops(x_train_rand, x_test_rand)\n",
        "difference = (dists_two - dists_none).pow(2).sum().sqrt().item()\n",
        "print('Difference: ', difference)\n",
        "if difference < 1e-4:\n",
        "  print('Good! The distance matrices match')\n",
        "else:\n",
        "  print('Uh-oh! The distance matrices are different')"
      ],
      "execution_count": 0,
      "outputs": []
    },
    {
      "cell_type": "markdown",
      "metadata": {
        "colab_type": "text",
        "id": "0JPMM0-BBGmt"
      },
      "source": [
        "We can now compare the speed of our three implementations. If you've implemented everything properly, the one-loop implementation should take less than 4 seconds to run, and the fully vectorized implementation should take less than 0.1 seconds to run."
      ]
    },
    {
      "cell_type": "code",
      "metadata": {
        "colab_type": "code",
        "id": "IN9cntDC5c5q",
        "colab": {}
      },
      "source": [
        "import time\n",
        "\n",
        "def timeit(f, *args):\n",
        "  tic = time.time()\n",
        "  f(*args) \n",
        "  toc = time.time()\n",
        "  return toc - tic\n",
        "\n",
        "torch.manual_seed(0)\n",
        "x_train_rand = torch.randn(500, 3, 32, 32)\n",
        "x_test_rand = torch.randn(500, 3, 32, 32)\n",
        "\n",
        "two_loop_time = timeit(compute_distances_two_loops, x_train_rand, x_test_rand)\n",
        "print('Two loop version took %.2f seconds' % two_loop_time)\n",
        "\n",
        "one_loop_time = timeit(compute_distances_one_loop, x_train_rand, x_test_rand)\n",
        "speedup = two_loop_time / one_loop_time\n",
        "print('One loop version took %.2f seconds (%.1fX speedup)'\n",
        "      % (one_loop_time, speedup))\n",
        "\n",
        "no_loop_time = timeit(compute_distances_no_loops, x_train_rand, x_test_rand)\n",
        "speedup = two_loop_time / no_loop_time\n",
        "print('No loop version took %.2f seconds (%.1fX speedup)'\n",
        "      % (no_loop_time, speedup))"
      ],
      "execution_count": 0,
      "outputs": []
    },
    {
      "cell_type": "markdown",
      "metadata": {
        "colab_type": "text",
        "id": "EudsSj5TrGGF"
      },
      "source": [
        "## Predict labels\n",
        "Now that we have a method for computing distances between training and test examples, we need to implement a function that uses those distances together with the training labels to predict labels for test samples.\n",
        "\n",
        "Complete the implementation of the function below:"
      ]
    },
    {
      "cell_type": "code",
      "metadata": {
        "colab_type": "code",
        "id": "lI0e0EmDjIcR",
        "colab": {}
      },
      "source": [
        "def predict_labels(dists, y_train, k=1):\n",
        "  \"\"\"\n",
        "  Given distances between all pairs of training and test samples, predict a\n",
        "  label for each test sample by taking a majority vote among its k nearest\n",
        "  neighbors in the training set.\n",
        " \n",
        "  In the event of a tie, this function should return the smaller label. For\n",
        "  example, if k=5 and the 5 nearest neighbors to a test example have labels\n",
        "  [1, 2, 1, 2, 3] then there is a tie between 1 and 2 (each have 2 votes), so\n",
        "  we should return 1 since it is the smaller label.\n",
        "\n",
        "  Inputs:\n",
        "  - dists: Torch tensor of shape (num_train, num_test) where dists[i, j] is the\n",
        "    squared Euclidean distance between the ith training point and the jth test\n",
        "    point.\n",
        "  - y_train: Torch tensor of shape (y_train,) giving labels for all training\n",
        "    samples. Each label is an integer in the range [0, num_classes - 1]\n",
        "  - k: The number of nearest neighbors to use for classification.\n",
        "\n",
        "  Returns:\n",
        "  - y_pred: A torch int64 tensor of shape (num_test,) giving predicted labels\n",
        "    for the test data, where y_pred[j] is the predicted label for the jth test\n",
        "    example. Each label should be an integer in the range [0, num_classes - 1].\n",
        "  \"\"\"\n",
        "  num_train, num_test = dists.shape\n",
        "  y_pred = torch.zeros(num_test, dtype=torch.int64)\n",
        "  ##############################################################################\n",
        "  # TODO: Implement this function. You may use an explicit loop over the test  #\n",
        "  # samples. Hint: Look up the function torch.topk                             #\n",
        "  ##############################################################################\n",
        "  # Replace \"pass\" statement with your code\n",
        "  pass\n",
        "  ##############################################################################\n",
        "  #                             END OF YOUR CODE                               #\n",
        "  ##############################################################################\n",
        "  return y_pred"
      ],
      "execution_count": 0,
      "outputs": []
    },
    {
      "cell_type": "markdown",
      "metadata": {
        "colab_type": "text",
        "id": "fMBf1Z6VF9hx"
      },
      "source": [
        "Now we have implemented all the required functionality for the K-Nearest Neighbor classifier. We can define a simple object to encapsulate the classifier:"
      ]
    },
    {
      "cell_type": "code",
      "metadata": {
        "colab_type": "code",
        "id": "acUiHDQlEywx",
        "colab": {}
      },
      "source": [
        "class KnnClassifier:\n",
        "  def __init__(self, x_train, y_train):\n",
        "    \"\"\"\n",
        "    Create a new K-Nearest Neighbor classifier with the specified training data.\n",
        "    In the initializer we simply memorize the provided training data.\n",
        "\n",
        "    Inputs:\n",
        "    - x_train: Torch tensor of shape (num_train, C, H, W) giving training data\n",
        "    - y_train: int64 torch tensor of shape (num_train,) giving training labels\n",
        "    \"\"\"\n",
        "    self.x_train = x_train.contiguous()\n",
        "    self.y_train = y_train.contiguous()\n",
        "  \n",
        "  def predict(self, x_test, k=1):\n",
        "    \"\"\"\n",
        "    Make predictions using the classifier.\n",
        "   \n",
        "    Inputs:\n",
        "    - x_test: Torch tensor of shape (num_test, C, H, W) giving test samples\n",
        "    - k: The number of neighbors to use for predictions\n",
        "  \n",
        "    Returns:\n",
        "    - y_test_pred: Torch tensor of shape (num_test,) giving predicted labels\n",
        "      for the test samples.\n",
        "    \"\"\"\n",
        "    dists = compute_distances_no_loops(self.x_train, x_test.contiguous())\n",
        "    y_test_pred = predict_labels(dists, self.y_train, k=k)\n",
        "    return y_test_pred\n",
        "  \n",
        "  def check_accuracy(self, x_test, y_test, k=1, quiet=False):\n",
        "    \"\"\"\n",
        "    Utility method for checking the accuracy of this classifier on test data.\n",
        "    Returns the accuracy of the classifier on the test data, and also prints a\n",
        "    message giving the accuracy.\n",
        "\n",
        "    Inputs:\n",
        "    - x_test: Torch tensor of shape (num_test, C, H, W) giving test samples\n",
        "    - y_test: int64 torch tensor of shape (num_test,) giving test labels\n",
        "    - k: The number of neighbors to use for prediction\n",
        "    - quiet: If True, don't print a message.\n",
        "  \n",
        "    Returns:\n",
        "    - accuracy: Accuracy of this classifier on the test data, as a percent.\n",
        "      Python float in the range [0, 100]\n",
        "    \"\"\"\n",
        "    y_test_pred = self.predict(x_test, k=k)\n",
        "    num_samples = x_test.shape[0]\n",
        "    num_correct = (y_test == y_test_pred).sum().item()\n",
        "    accuracy = 100.0 * num_correct / num_samples\n",
        "    msg = (f'Got {num_correct} / {num_samples} correct; '\n",
        "           f'accuracy is {accuracy:.2f}%')\n",
        "    if not quiet:\n",
        "      print(msg)\n",
        "    return accuracy"
      ],
      "execution_count": 0,
      "outputs": []
    },
    {
      "cell_type": "markdown",
      "metadata": {
        "colab_type": "text",
        "id": "WZgw0DJSH1jZ"
      },
      "source": [
        "Now lets put everything together and test our K-NN clasifier on a subset of CIFAR-10, using k=1:\n",
        "\n",
        "If you've implemented everything correctly you should see an accuracy of about 27%."
      ]
    },
    {
      "cell_type": "code",
      "metadata": {
        "colab_type": "code",
        "id": "W5GVNBh0ySGN",
        "colab": {}
      },
      "source": [
        "num_train = 5000\n",
        "num_test = 500\n",
        "x_train, y_train, x_test, y_test = coutils.data.cifar10(num_train, num_test)\n",
        "\n",
        "classifier = KnnClassifier(x_train, y_train)\n",
        "classifier.check_accuracy(x_test, y_test, k=1)"
      ],
      "execution_count": 0,
      "outputs": []
    },
    {
      "cell_type": "markdown",
      "metadata": {
        "colab_type": "text",
        "id": "QQwHpcPrIF5u"
      },
      "source": [
        "Now lets increase to k=5. You should see a slightly higher accuracy than k=1:"
      ]
    },
    {
      "cell_type": "code",
      "metadata": {
        "colab_type": "code",
        "id": "_a4zwcTe0PIK",
        "colab": {}
      },
      "source": [
        "classifier.check_accuracy(x_test, y_test, k=5)"
      ],
      "execution_count": 0,
      "outputs": []
    },
    {
      "cell_type": "markdown",
      "metadata": {
        "colab_type": "text",
        "id": "QNyZLRmaIgT0"
      },
      "source": [
        "## Cross-validation\n",
        "We have not implemented the full k-Nearest Neighbor classifier, but the choice of $k=5$ was arbitrary. We will use **cross-validation** to set this hyperparameter in a more principled manner.\n",
        "\n",
        "Implement the following function to run cross-validation:"
      ]
    },
    {
      "cell_type": "code",
      "metadata": {
        "colab_type": "code",
        "id": "JIeXmTnnJUUR",
        "colab": {}
      },
      "source": [
        "def knn_cross_validate(x_train, y_train, num_folds=5, k_choices=None):\n",
        "  \"\"\"\n",
        "  Perform cross-validation for KnnClassifier.\n",
        "\n",
        "  Inputs:\n",
        "  - x_train: Tensor of shape (num_train, C, H, W) giving all training data\n",
        "  - y_train: int64 tensor of shape (num_train,) giving labels for training data\n",
        "  - num_folds: Integer giving the number of folds to use\n",
        "  - k_choices: List of integers giving the values of k to try\n",
        " \n",
        "  Returns:\n",
        "  - k_to_accuracies: Dictionary mapping values of k to lists, where\n",
        "    k_to_accuracies[k][i] is the accuracy on the ith fold of a KnnClassifier\n",
        "    that uses k nearest neighbors.\n",
        "  \"\"\"\n",
        "  if k_choices is None:\n",
        "    # Use default values\n",
        "    k_choices = [1, 3, 5, 8, 10, 12, 15, 20, 50, 100]\n",
        "\n",
        "  # First we divide the training data into num_folds equally-sized folds.\n",
        "  x_train_folds = []\n",
        "  y_train_folds = []\n",
        "  ##############################################################################\n",
        "  # TODO: Split the training data and images into folds. After splitting,      #\n",
        "  # x_train_folds and y_train_folds should be lists of length num_folds, where #\n",
        "  # y_train_folds[i] is the label vector for images in x_train_folds[i].       #\n",
        "  # Hint: torch.chunk                                                          #\n",
        "  ##############################################################################\n",
        "  # Replace \"pass\" statement with your code\n",
        "  pass\n",
        "  ##############################################################################\n",
        "  #                            END OF YOUR CODE                                #\n",
        "  ##############################################################################\n",
        "  \n",
        "  # A dictionary holding the accuracies for different values of k that we find\n",
        "  # when running cross-validation. After running cross-validation,\n",
        "  # k_to_accuracies[k] should be a list of length num_folds giving the different\n",
        "  # accuracies we found when trying KnnClassifiers that use k neighbors.\n",
        "  k_to_accuracies = {}\n",
        "\n",
        "  ##############################################################################\n",
        "  # TODO: Perform cross-validation to find the best value of k. For each value #\n",
        "  # of k in k_choices, run the k-nearest-neighbor algorithm num_folds times;   #\n",
        "  # in each case you'll use all but one fold as training data, and use the     #\n",
        "  # last fold as a validation set. Store the accuracies for all folds and all  #\n",
        "  # values in k in k_to_accuracies.   HINT: torch.cat                          #\n",
        "  ##############################################################################\n",
        "  # Replace \"pass\" statement with your code\n",
        "  pass\n",
        "  ##############################################################################\n",
        "  #                            END OF YOUR CODE                                #\n",
        "  ##############################################################################\n",
        "\n",
        "  return k_to_accuracies"
      ],
      "execution_count": 0,
      "outputs": []
    },
    {
      "cell_type": "markdown",
      "metadata": {
        "colab_type": "text",
        "id": "B3-jFhWSjAYD"
      },
      "source": [
        "Now we'll run your cross-validation function:"
      ]
    },
    {
      "cell_type": "code",
      "metadata": {
        "colab_type": "code",
        "id": "pA5MrumnLk5B",
        "colab": {}
      },
      "source": [
        "num_train = 5000\n",
        "num_test = 500\n",
        "x_train, y_train, x_test, y_test = coutils.data.cifar10(num_train, num_test)\n",
        "\n",
        "k_to_accuracies = knn_cross_validate(x_train, y_train, num_folds=5)\n",
        "\n",
        "for k, accs in sorted(k_to_accuracies.items()):\n",
        "  print('k = %d got accuracies: %r' % (k, accs))"
      ],
      "execution_count": 0,
      "outputs": []
    },
    {
      "cell_type": "code",
      "metadata": {
        "colab_type": "code",
        "id": "vMtPikIsNxl2",
        "colab": {}
      },
      "source": [
        "ks, means, stds = [], [], []\n",
        "for k, accs in sorted(k_to_accuracies.items()):\n",
        "  plt.scatter([k] * len(accs), accs, color='g')\n",
        "  ks.append(k)\n",
        "  means.append(statistics.mean(accs))\n",
        "  stds.append(statistics.stdev(accs))\n",
        "plt.errorbar(ks, means, yerr=stds)\n",
        "plt.xlabel('k')\n",
        "plt.ylabel('Cross-validation accuracy')\n",
        "plt.title('Cross-validation on k')\n",
        "plt.show()"
      ],
      "execution_count": 0,
      "outputs": []
    },
    {
      "cell_type": "markdown",
      "metadata": {
        "colab_type": "text",
        "id": "XZ3Ue0bxmObU"
      },
      "source": [
        "Now we can use the results of cross-validation to select the best value for k, and rerun the classifier on our full 5000 set of training examples.\n",
        "\n",
        "You should get an accuracy above 28%."
      ]
    },
    {
      "cell_type": "code",
      "metadata": {
        "colab_type": "code",
        "id": "NBZfp1UtWyoG",
        "colab": {}
      },
      "source": [
        "best_k = 1\n",
        "##############################################################################\n",
        "# TODO: Use the results of cross-validation stored in k_to_accuracies to     #\n",
        "# choose the value of k, and store the result in best_k. You should choose   #\n",
        "# the value of k that has the highest mean accuracy accross all folds.       #\n",
        "##############################################################################\n",
        "# Replace \"pass\" statement with your code\n",
        "pass\n",
        "##############################################################################\n",
        "#                            END OF YOUR CODE                                #\n",
        "##############################################################################\n",
        "    \n",
        "print('Best k is ', best_k)\n",
        "classifier = KnnClassifier(x_train, y_train)\n",
        "classifier.check_accuracy(x_test, y_test, k=best_k)"
      ],
      "execution_count": 0,
      "outputs": []
    },
    {
      "cell_type": "markdown",
      "metadata": {
        "colab_type": "text",
        "id": "R1LevOE5mYJh"
      },
      "source": [
        "Finally, we can use our chosen value of k to run on the entire training and test sets.\n",
        "\n",
        "This may take a while to run, since the full training and test sets have 50k and 10k examples respectively. You should get an accuracy above 33%.\n",
        "\n",
        "**Run this only once!**"
      ]
    },
    {
      "cell_type": "code",
      "metadata": {
        "colab_type": "code",
        "id": "5gcXjsjFkcGV",
        "colab": {}
      },
      "source": [
        "x_train_all, y_train_all, x_test_all, y_test_all = coutils.data.cifar10()\n",
        "classifier = KnnClassifier(x_train_all, y_train_all)\n",
        "classifier.check_accuracy(x_test_all, y_test_all, k=best_k)"
      ],
      "execution_count": 0,
      "outputs": []
    }
  ]
}